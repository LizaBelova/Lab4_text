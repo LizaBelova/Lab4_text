{
 "cells": [
  {
   "cell_type": "markdown",
   "metadata": {},
   "source": [
    "<h1>Лабораторная работа №4</h1>\n",
    "<i><h2>Работа с текстовыми данными</h2></i>"
   ]
  },
  {
   "cell_type": "code",
   "execution_count": 84,
   "metadata": {},
   "outputs": [],
   "source": [
    "categories = ['rec.sport.hockey', 'soc.religion.christian', 'comp.graphics', 'sci.crypt'] #категории"
   ]
  },
  {
   "cell_type": "code",
   "execution_count": 85,
   "metadata": {},
   "outputs": [
    {
     "data": {
      "text/plain": [
       "['comp.graphics', 'rec.sport.hockey', 'sci.crypt', 'soc.religion.christian']"
      ]
     },
     "execution_count": 85,
     "metadata": {},
     "output_type": "execute_result"
    }
   ],
   "source": [
    "from sklearn.datasets import fetch_20newsgroups\n",
    "twenty_train = fetch_20newsgroups(subset='train', categories=categories, shuffle=True, random_state=42)\n",
    "twenty_train.target_names"
   ]
  },
  {
   "cell_type": "code",
   "execution_count": 86,
   "metadata": {},
   "outputs": [
    {
     "data": {
      "text/plain": [
       "2378"
      ]
     },
     "execution_count": 86,
     "metadata": {},
     "output_type": "execute_result"
    }
   ],
   "source": [
    "len(twenty_train.data)"
   ]
  },
  {
   "cell_type": "code",
   "execution_count": 87,
   "metadata": {},
   "outputs": [
    {
     "name": "stdout",
     "output_type": "stream",
     "text": [
      "From: jimg@cybernet.cse.fau.edu (Jim Gorycki)\n",
      "Subject: New Franchise name\n",
      "Organization: Cybernet BBS, Boca Raton, Florida\n"
     ]
    }
   ],
   "source": [
    "print(\"\\n\".join(twenty_train.data[0].split(\"\\n\")[:3])) #вывод первых строк из первого загруженного файла"
   ]
  },
  {
   "cell_type": "code",
   "execution_count": 88,
   "metadata": {},
   "outputs": [
    {
     "name": "stdout",
     "output_type": "stream",
     "text": [
      "rec.sport.hockey\n"
     ]
    }
   ],
   "source": [
    "print(twenty_train.target_names[twenty_train.target[0]])"
   ]
  },
  {
   "cell_type": "code",
   "execution_count": 89,
   "metadata": {},
   "outputs": [
    {
     "data": {
      "text/plain": [
       "array([1, 1, 3, 0, 2, 0, 1, 2, 0, 3], dtype=int64)"
      ]
     },
     "execution_count": 89,
     "metadata": {},
     "output_type": "execute_result"
    }
   ],
   "source": [
    "twenty_train.target[:10]"
   ]
  },
  {
   "cell_type": "markdown",
   "metadata": {},
   "source": [
    "<h3>Загружаем данные из Интернета</h3>"
   ]
  },
  {
   "cell_type": "code",
   "execution_count": 90,
   "metadata": {},
   "outputs": [
    {
     "data": {
      "text/plain": [
       "<Response [200]>"
      ]
     },
     "execution_count": 90,
     "metadata": {},
     "output_type": "execute_result"
    }
   ],
   "source": [
    "import requests\n",
    "from bs4 import BeautifulSoup\n",
    "requests.get(\"https://threatpost.ru\")"
   ]
  },
  {
   "cell_type": "code",
   "execution_count": 91,
   "metadata": {},
   "outputs": [
    {
     "name": "stdout",
     "output_type": "stream",
     "text": [
      "cookies: <RequestsCookieJar[]>\n",
      "time to download: 0:00:00.906548\n",
      "page encoding UTF-8\n",
      "Server response:  200\n",
      "Is everything ok?  True\n",
      "Page's URL:  https://threatpost.ru/experts-found-out-most-popular-passwords/26275/\n",
      "Wall time: 1.36 s\n"
     ]
    }
   ],
   "source": [
    "%%time\n",
    "resp=requests.get(\"https://threatpost.ru/experts-found-out-most-popular-passwords/26275/\")\n",
    "print(\"cookies:\", resp.cookies)\n",
    "print(\"time to download:\", resp.elapsed)\n",
    "print(\"page encoding\", resp.encoding)\n",
    "print(\"Server response: \", resp.status_code) # 200 - \"good\", сервер готов к работе\n",
    "print(\"Is everything ok? \", resp.ok)\n",
    "print(\"Page's URL: \", resp.url)"
   ]
  },
  {
   "cell_type": "code",
   "execution_count": 92,
   "metadata": {},
   "outputs": [
    {
     "data": {
      "text/plain": [
       "'<!DOCTYPE html>\\n<!--[if IE 7]>\\n<html class=\"ie ie7\" lang=\"ru-RU\">\\n<![endif]-->\\n<!--[if IE 8]>\\n<html class=\"ie ie8\" lang=\"ru-RU\">\\n<![endif]-->\\n<!--[if !(IE 7) | !(IE 8)  ]><!-->\\n<script type=\"text/javascript\">\\n\\tvar doc = document.documentElement;\\n\\tdoc.setAttribute(\\'data-useragent\\', navigator.userAgent);\\n</script>\\n<html lang=\"ru-RU\">\\n<!--<![endif]-->\\n<head>\\n<meta charset=\"UTF-8\" />\\n<meta name=\"viewport\" content=\"width=device-width\" />\\n<link rel=\"profile\" href=\"http://gmpg.org/xfn/11\" />\\n<link rel=\"stylesheet\" href=\"https://threatpost.ru/wp-content/themes/threatpost/style.css?1550242656\" type=\"text/css\" media=\"screen, projection\" />\\n<!--[if lte IE 9]>\\n\\t<link rel=\"stylesheet\" href=\"https://threatpost.ru/wp-content/themes/threatpost/lib/css/ie.css\" type=\"text/css\" media=\"screen\" />\\n<![endif]-->\\n<link rel=\"pingback\" href=\"https://threatpost.ru/xmlrpc.php\" />\\n<!--[if lt IE 9]>\\n<script src=\"https://threatpost.ru/wp-content/themes/threatpost/lib/js/html5.js\" type=\"text/javascript\"></script>\\n\\n<![endif]-->\\n<link rel=\"icon\" href=\"https://threatpost.ru/wp-content/themes/threatpost/favicon.ico\" type=\"image/x-icon\">\\n\\n<title>Эксперты назвали самые популярные пароли | Threatpost</title>\\n\\n<!-- Start The SEO Framework by Sybre Waaijer -->\\n<meta name=\"keywords\" content=\"пароли, Dashlane, исследования,\" />\\n<meta name=\"description\" content=\"Специалисты выяснили, что большинство пользователей применяет ненадежные ключи для защиты аккаунтов.\" />\\r\\n<meta property=\"og:image\" content=\"https://media.kasperskycontenthub.com/wp-content/uploads/sites/32/2018/04/11194209/passwordpromo_TW.jpg\" />\\r\\n<meta property=\"og:type\" content=\"article\" />\\r\\n<meta property=\"og:title\" content=\"Эксперты назвали самые популярные пароли\" />\\r\\n<meta property=\"og:description\" content=\"Специалисты выяснили, что большинство пользователей применяет ненадежные ключи для защиты аккаунтов.\" />\\r\\n<meta property=\"og:url\" content=\"https://threatpost.ru/experts-found-out-most-popular-passwords/26275/\" />\\r\\n<meta name=\"twitter:card\" '"
      ]
     },
     "execution_count": 92,
     "metadata": {},
     "output_type": "execute_result"
    }
   ],
   "source": [
    "resp.text[:2000]"
   ]
  },
  {
   "cell_type": "code",
   "execution_count": 93,
   "metadata": {},
   "outputs": [
    {
     "data": {
      "text/plain": [
       "'\\n\\tvar doc = document.documentElement;\\n\\tdoc.setAttribute(\\'data-useragent\\', navigator.userAgent);\\n\\n\\n\\n\\n\\n\\n\\n\\n\\n\\n\\n\\n\\nЭксперты назвали самые популярные пароли | Threatpost\\n\\n\\n\\n\\n\\n\\n\\n\\n\\n\\n\\n\\n\\n\\n\\n\\n{\"@context\":\"http://schema.org\",\"@type\":\"BreadcrumbList\",\"itemListElement\":[{\"@type\":\"ListItem\",\"position\":1,\"item\":{\"@id\":\"https://threatpost.ru/\",\"name\":\"Threatpost\",\"image\":\"https://media.kasperskycontenthub.com/wp-content/uploads/sites/32/2018/04/12155302/tp_twitter.png\"}},{\"@type\":\"ListItem\",\"position\":2,\"item\":{\"@id\":\"https://threatpost.ru/category/analitika/\",\"name\":\"\\\\u0410\\\\u043d\\\\u0430\\\\u043b\\\\u0438\\\\u0442\\\\u0438\\\\u043a\\\\u0430\"}},{\"@type\":\"ListItem\",\"position\":3,\"item\":{\"@id\":\"https://threatpost.ru/experts-found-out-most-popular-passwords/26275/\",\"name\":\"\\\\u042d\\\\u043a\\\\u0441\\\\u043f\\\\u0435\\\\u0440\\\\u0442\\\\u044b \\\\u043d\\\\u0430\\\\u0437\\\\u0432\\\\u0430\\\\u043b\\\\u0438 \\\\u0441\\\\u0430\\\\u043c\\\\u044b\\\\u0435 \\\\u043f\\\\u043e\\\\u043f\\\\u0443\\\\u043b\\\\u044f\\\\u0440\\\\u043d\\\\u044b\\\\u0435 \\\\u043f\\\\u0430\\\\u0440\\\\u043e\\\\u043b\\\\u0438\",\"image\":\"https://media.kasperskycontenthub.com/wp-content/uploads/sites/32/2018/04/11194209/passwordpromo_TW.jpg\"}}]}\\n{\"@context\":\"https://schema.org\",\"@type\":\"NewsArticle\",\"mainEntityOfPage\":{\"@type\":\"WebPage\",\"@id\":\"https://threatpost.ru/experts-found-out-most-popular-passwords/26275/\"},\"headline\":\"\\\\u042d\\\\u043a\\\\u0441\\\\u043f\\\\u0435\\\\u0440\\\\u0442\\\\u044b \\\\u043d\\\\u0430\\\\u0437\\\\u0432\\\\u0430\\\\u043b\\\\u0438 \\\\u0441\\\\u0430\\\\u043c\\\\u044b\\\\u0435 \\\\u043f\\\\u043e\\\\u043f\\\\u0443\\\\u043b\\\\u044f\\\\u0440\\\\u043d\\\\u044b\\\\u0435 \\\\u043f\\\\u0430\\\\u0440\\\\u043e\\\\u043b\\\\u0438\",\"image\":{\"@type\":\"ImageObject\",\"url\":\"https://media.kasperskycontenthub.com/wp-content/uploads/sites/32/2018/04/11194209/passwordpromo_TW.jpg\",\"height\":440,\"width\":880},\"datePublished\":\"2018-05-28T16:31:14+03:00\",\"dateModified\":\"2018-05-28T16:31:14+03:00\",\"author\":{\"@type\":\"Person\",\"name\":\"Egor Nashilov\"},\"publisher\":{\"@type\":\"Organization\",\"name\":\"Kaspersky Lab\",\"logo\":{\"@type\":\"ImageObject\",\"url\":\"https://media.kasperskycontenthub.com/wp-content/uploads/sites/32/2019/02/04145238/sl_kl_logo.png\",\"width\":600,\"height\":60}},\"description\":\"\\\\u0421\\\\u043f\\\\u0435\\\\u0446\\\\u0438\\\\u0430\\\\u043b\\\\u0438\\\\u0441\\\\u0442\\\\u044b \\\\u0432\\\\u044b\\\\u044f\\\\u0441\\\\u043d\\\\u0438\\\\u043b\\\\u0438, \\\\u0447\\\\u0442\\\\u043e \\\\u0431\\\\u043e\\\\u043b\\\\u044c\\\\u0448\\\\u0438\\\\u043d\\\\u0441\\\\u0442\\\\u0432\\\\u043e \\\\u043f\\\\u043e\\\\u043b\\\\u044c\\\\u0437\\\\u043e\\\\u0432\\\\u0430\\\\u0442\\\\u0435\\\\u043b\\\\u0435\\\\u0439 \\\\u043f\\\\u0440\\\\u0438\\\\u043c\\\\u0435\\\\u043d\\\\u044f\\\\u0435\\\\u0442 \\\\u043d\\\\u0435\\\\u043d\\\\u0430\\\\u0434\\\\u0435\\\\u0436\\\\u043d\\\\u044b\\\\u0435 \\\\u043a\\\\u043b\\\\u044e\\\\u0447\\\\u0438 \\\\u0434\\\\u043b\\\\u044f \\\\u0437\\\\u0430\\\\u0449\\\\u0438\\\\u0442\\\\u044b \\\\u0430\\\\u043a\\\\u043a\\\\u0430\\\\u0443\\\\u043d\\\\u0442\\\\u043e\\\\u0432.\"}\\n\\n\\n\\n\\n\\n\\n\\n\\n\\n\\n/* <![CDATA[ */\\nvar gdprDynamicStrings = {\"notification_text\":\"\\\\u041c\\\\u044b \\\\u0438\\\\u0441\\\\u043f\\\\u043e\\\\u043b\\\\u044c\\\\u0437\\\\u0443\\\\u0435\\\\u043c \\\\u0444\\\\u0430\\\\u0439\\\\u043b\\\\u044b cookie, \\\\u0447\\\\u0442\\\\u043e\\\\u0431\\\\u044b \\\\u0443\\\\u043b\\\\u0443\\\\u0447\\\\u0448\\\\u0438\\\\u0442\\\\u044c \\\\u0440\\\\u0430\\\\u0431\\\\u043e\\\\u0442\\\\u0443 \\\\u0441\\\\u0430\\\\u0439\\\\u0442\\\\u0430. \\\\u0414\\\\u0430\\\\u043b\\\\u044c\\\\u043d\\\\u0435\\\\u0439\\\\u0448\\\\u0435\\\\u0435 \\\\u043f\\\\u0440\\\\u0435\\\\u0431\\\\u044b\\\\u0432\\\\u0430\\\\u043d\\\\u0438\\\\u0435 \\\\u043d\\\\u0430 \\\\u0441\\\\u0430\\\\u0439\\\\u0442\\\\u0435 \\\\u043e\\\\u0437\\\\u043d\\\\u0430\\\\u0447\\\\u0430\\\\u0435\\\\u0442 \\\\u0441\\\\u043e\\\\u0433\\\\u043b\\\\u0430\\\\u0441\\\\u0438\\\\u0435 \\\\u0441 \\\\u0438\\\\u0445 \\\\u043f\\\\u0440\\\\u0438\\\\u043c\\\\u0435\\\\u043d\\\\u0435\\\\u043d\\\\u0438\\\\u0435\\\\u043c. <a href=\\\\\"https:\\\\/\\\\/www.kaspersky.ru\\\\/web-privacy-policy\\\\\" target=\\\\\"_blank\\\\\">\\\\u041f\\\\u043e\\\\u0434\\\\u0440\\\\u043e\\\\u0431\\\\u043d\\\\u0435\\\\u0435<\\\\/a>\",\"button_text\":\"\\\\u041f\\\\u0440\\\\u0438\\\\u043d\\\\u044f\\\\u0442\\\\u044c \\\\u0438 \\\\u0437\\\\u0430\\\\u043a\\\\u0440\\\\u044b\\\\u0442\\\\u044c\"};\\n/* ]]> */\\n\\n\\n\\n/* <![CDATA[ */\\nvar kss = {\"twitter_account\":\"kaspersky_ru\"};\\n/* ]]> */\\n\\n\\n\\n\\n \\n\\n\\n\\n\\n\\t!function(f,b,e,v,n,t,s){if(f.fbq)return;n=f.fbq=function(){n.callMethod?\\n\\tn.callMethod.apply(n,arguments):n.queue.push(arguments)};if(!f._fbq)f._fbq=n;\\n\\tn.push=n;n.loaded=!0;n.version=\\'2.0\\';n.queue=[];t=b.createElement(e);t.async=!0;\\n\\tt.src=v;s=b.getElementsByTagName(e)[0];s.parentNode.insertBefore(t,s)}(window,\\n\\tdocument,\\'script\\',\\'//connect.facebook.net/en_US/fbevents.js\\');\\n\\tfbq(\\'init\\', \\'839281392784015\\');\\n\\tfbq(\\'track\\', \\'PageView\\');\\n\\n\\n                    \\n                (function(i,s,o,g,r,a,m){i[\\'GoogleAnalyticsObject\\']=r;i[r]=i[r]||function(){\\n                (i[r].q=i[r].q||[]).push(arguments)},i[r].l=1*new Date();a=s.createElement(o),\\n                m=s.getElementsByTagName(o)[0];a.async=1;a.src=g;m.parentNode.insertBefore(a,m)\\n                })(window,document,\\'script\\',\\'//www.google-analytics.com/analytics.js\\',\\'ga\\');\\n\\n                ga(\\'create\\', \\'UA-35676203-25\\', \\'threatpost.ru\\');\\n                ga(\\'set\\', \\'anonymizeIp\\', true);\\n                \\n                                \\n                    \\n                                            \\n                        ga(\\'send\\', \\'pageview\\', {\\n                                                            \\'dimension1\\' : \\'Egor Nashilov\\',\\n                                                            \\'dimension2\\' : \\'26275\\',\\n                                                            \\'dimension3\\' : \\'2018-05-28\\',\\n                                                            \\'dimension4\\' : \\'Аналитика, Главное\\',\\n                                                            \\'dimension5\\' : \\'Dashlane, исследования, пароли\\',\\n                                                    });\\n\\n                        \\n                                                        \\n                            \\n                        \\n                                                        \\n                            \\n                                            \\n                                    \\n                \\n            \\n            \\t\\n\\t\\tjQuery(document).ready(function($){\\n\\t\\t\\t// Setup the video popover\\n\\t\\t\\t$(\".video-pop\").colorbox({inline:true});\\n\\n\\t\\t\\t\\t\\t\\t\\t$.featureList(\\n\\t\\t\\t\\t\\t$(\"#post-tabs li a\"),\\n\\t\\t\\t\\t\\t$(\"#output li\"), {\\n\\t\\t\\t\\t\\t\\tstart_item:\\t0,\\n\\t\\t\\t\\t\\t\\ttransition_interval: 9999999,\\n\\t\\t\\t\\t\\t\\tpause_on_hover: true,\\n\\t\\t\\t\\t\\t}\\n\\t\\t\\t\\t);\\n\\t\\t\\t\\t\\t});\\n\\t\\n#wpadminbar #wp-admin-bar-site-name>.ab-item:before { content: none !important;}li#wp-admin-bar-site-name a { background: url( \"https://threatpost.ru/wp-content/themes/threatpost/favicon.ico\" ) left center/20px no-repeat !important; padding-left: 21px !important; background-size: 20px !important; } li#wp-admin-bar-site-name { margin-left: 5px !important; } li#wp-admin-bar-site-name {} #wp-admin-bar-site-name div a { background: none !important; }\\n\\n\\n\\n\\n\\n\\n\\n\\n\\t\\t\\n\\n\\t\\n\\n\\t\\t\\n\\t\\tThreatpost\\n\\n\\t\\t\\n\\t\\t\\tКатегории\\n\\n\\tCategory list\\n\\t\\n\\t\\tАналитика\\n\\t\\tВредоносные программы\\n\\t\\tDoS-атаки\\n\\t\\n\\n\\tCategory list\\n\\t\\n\\t\\tКибероборона\\n\\t\\tМошенничество\\n\\t\\n\\n\\tCategory list\\n\\t\\n\\t\\tСпам\\n\\t\\tУязвимости\\n\\t\\tХакеры\\n\\t\\n\\n\\tАвторы\\n\\t\\n\\t\\tMichael Mimoso\\n\\t\\tMaxim Zaitsev\\n\\t\\tChristopher Brook\\n\\t\\tValeria Titova\\n\\t\\tSergey Malenkovich\\n\\t\\tDennis Fisher\\n\\t\\tПриглашенные\\n\\t\\n\\n\\tНовостная служба Лаборатории Касперского\\n\\n\\nГлавное\\n\\n\\tНовостная служба Лаборатории Касперского\\n\\n\\n\\t\\t\\t\\tСообщения дня\\n\\t\\t\\t\\tВсе\\n\\t\\t\\t\\t\\n\\t\\t\\t\\t\\tAstaroth крадет данные с помощью утилит… \\n\\t\\t\\t\\t\\t\\n\\t\\t\\t\\t\\tВышли февральские патчи для продуктов SAP\\n\\t\\t\\t\\t\\t\\n\\t\\t\\t\\t\\tSiemens опубликовала патчи для своего промышленного… \\n\\t\\t\\t\\t\\t \\n\\t\\t\\t\\t\\tРоссиянам вернули украденные кибермошенниками деньги\\n\\t\\t\\t\\t\\t\\n\\t\\t\\t\\t\\tAdobe закрыла десятки брешей в Acrobat… \\n\\t\\t\\t\\t\\t\\n\\t\\t\\t\\t\\tMicrosoft устранила баг 0-day, уже используемый… \\n\\t\\t\\t\\t\\t\\n\\t\\t\\n\\n\\t\\t\\n\\t\\t\\t\\t\\t\\t\\t\\n\\t\\t\\t\\t\\t\\n    \\n      \\n        TwitterFacebookLinkedInYouTubeRSS      \\n    \\n\\n    \\n\\n\\n\\n    \\n    \\n        \\n            \\n                \\n                \\n            \\n        \\n    \\n\\t\\t\\t\\t\\n\\t\\t\\t\\t\\t\\n\\n\\n\\t\\t\\n\\t\\t\\n\\n\\t\\t\\t\\t\\t\\n\\t\\t\\t\\t\\t\\t\\t\\nПодписаться на новости\\nПодписаться\\n\\n\\n\\n\\n\\n                \\n                        \\n                            \\n                        *\\n\\t\\t\\t\\t\\t\\t\\t\\t\\n\\t\\t\\t\\t\\t\\t\\t\\tЯ согласен(а) предоставить мой адрес эдектронной почты АО “Лаборатория Касперского“, чтобы получать уведомления о новых публикациях на сайте. Я могу отозвать свое согласие в любое время, нажав на кнопку “отписаться” в конце любого из писем, отправленных мне по вышеуказанным причинам.\\n\\t\\t\\t\\t\\t\\t\\tCommentsЭто поле используется для проверочных целей, его следует оставить без изменений.\\n                            \\n          \\n            \\n            \\n            \\n            \\n            \\n            \\n            \\n            \\n            \\n        \\n                        \\n                        \\n                Этот iframe содержит необходимую логику для обработки Ajax в Gravity Forms.\\n                jQuery(document).ready(function($){gformInitSpinner( 2, \\'https://threatpost.ru/wp-content/themes/threatpost/images/ajax-spinner.svg\\' );jQuery(\\'#gform_ajax_frame_2\\').load( function(){var contents = jQuery(this).contents().find(\\'*\\').html();var is_postback = contents.indexOf(\\'GF_AJAX_POSTBACK\\') >= 0;if(!is_postback){return;}var form_content = jQuery(this).contents().find(\\'#gform_wrapper_2\\');var is_confirmation = jQuery(this).contents().find(\\'#gform_confirmation_wrapper_2\\').length > 0;var is_redirect = contents.indexOf(\\'gformRedirect(){\\') >= 0;var is_form = form_content.length > 0 && ! is_redirect && ! is_confirmation;if(is_form){jQuery(\\'#gform_wrapper_2\\').html(form_content.html());if(form_content.hasClass(\\'gform_validation_error\\')){jQuery(\\'#gform_wrapper_2\\').addClass(\\'gform_validation_error\\');} else {jQuery(\\'#gform_wrapper_2\\').removeClass(\\'gform_validation_error\\');}setTimeout( function() { /* delay the scroll by 50 milliseconds to fix a bug in chrome */ jQuery(document).scrollTop(jQuery(\\'#gform_wrapper_2\\').offset().top); }, 50 );if(window[\\'gformInitDatepicker\\']) {gformInitDatepicker();}if(window[\\'gformInitPriceFields\\']) {gformInitPriceFields();}var current_page = jQuery(\\'#gform_source_page_number_2\\').val();gformInitSpinner( 2, \\'https://threatpost.ru/wp-content/themes/threatpost/images/ajax-spinner.svg\\' );jQuery(document).trigger(\\'gform_page_loaded\\', [2, current_page]);window[\\'gf_submitting_2\\'] = false;}else if(!is_redirect){var confirmation_content = jQuery(this).contents().find(\\'.GF_AJAX_POSTBACK\\').html();if(!confirmation_content){confirmation_content = contents;}setTimeout(function(){jQuery(\\'#gform_wrapper_2\\').replaceWith(confirmation_content);jQuery(document).scrollTop(jQuery(\\'#gf_2\\').offset().top);jQuery(document).trigger(\\'gform_confirmation_loaded\\', [2]);window[\\'gf_submitting_2\\'] = false;}, 50);}else{jQuery(\\'#gform_2\\').append(contents);if(window[\\'gformRedirect\\']) {gformRedirect();}}jQuery(document).trigger(\\'gform_post_render\\', [2, current_page]);} );} ); if(typeof gf_global == \\'undefined\\') var gf_global = {\"gf_currency_config\":{\"name\":\"\\\\u0410\\\\u043c\\\\u0435\\\\u0440\\\\u0438\\\\u043a\\\\u0430\\\\u043d\\\\u0441\\\\u043a\\\\u0438\\\\u0439 \\\\u0434\\\\u043e\\\\u043b\\\\u043b\\\\u0430\\\\u0440\",\"symbol_left\":\"$\",\"symbol_right\":\"\",\"symbol_padding\":\"\",\"thousand_separator\":\",\",\"decimal_separator\":\".\",\"decimals\":2},\"base_url\":\"https:\\\\/\\\\/threatpost.ru\\\\/wp-content\\\\/plugins\\\\/gravityforms\",\"number_formats\":[],\"spinnerUrl\":\"https:\\\\/\\\\/threatpost.ru\\\\/wp-content\\\\/plugins\\\\/gravityforms\\\\/images\\\\/spinner.gif\"};jQuery(document).bind(\\'gform_post_render\\', function(event, formId, currentPage){if(formId == 2) {if(typeof Placeholders != \\'undefined\\'){\\n                        Placeholders.enable();\\n                    }} } );jQuery(document).bind(\\'gform_post_conditional_logic\\', function(event, formId, fields, isInit){} ); jQuery(document).ready(function(){jQuery(document).trigger(\\'gform_post_render\\', [2, 1]) } ); \\n\\n\\n\\n\\n\\t\\t\\t\\t\\t\\n\\t\\t\\t\\t\\n\\t\\n\\n\\t\\n\\n\\t\\n\\t\\tГлавная > Все записи>Аналитика > Эксперты назвали самые популярные пароли\\t\\t\\n\\n\\t\\t\\t\\n\\n\\n0\\n\\t\\n\\t\\t\\t\\t\\n\\t\\t\\t\\t\\t\\t\\t\\t\\t\\t\\t\\t\\n\\t\\t\\t\\t\\t\\tЭксперты назвали самые популярные пароли\\t\\t\\t\\t\\t\\n\\t\\t\\t\\t\\t\\t\\t\\t\\n\\t\\t\\t\\t\\tТекст Egor Nashilov\\n\\t\\t\\t\\t\\t\\t\\t\\t\\t\\t!function(d,s,id){var js,fjs=d.getElementsByTagName(s)[0],p=/^http:/.test(d.location)?\\'http\\':\\'https\\';if(!d.getElementById(id)){js=d.createElement(s);js.id=id;js.src=p+\\'://platform.twitter.com/widgets.js\\';fjs.parentNode.insertBefore(js,fjs);}}(document, \\'script\\', \\'twitter-wjs\\');\\n\\t\\t\\t\\t\\t28 мая 2018 , 16:31\\n\\t\\t\\t\\t\\n\\t\\t\\t\\t\\t\\n\\n\\t\\tРазработчики утилиты для хранения паролей Dashlane проанализировали данные более 60 млн пользователей и рассказали о привычках, которым следуют люди при выборе ключей для своих аккаунтов. Чаще всего секретная комбинация символов содержит названия футбольных клубов, слова любви и ненависти, а также имена звезд и марки автомобилей.\\nЭксперты выделили несколько типовых паттернов создания паролей. Один из них — удобное сочетание клавиш. Записи вида qwerty и 12345 ушли в историю, уступив лидерство более «надежным» с точки зрения пользователей последовательностям.Показать связанные сообщения\\t\\t\\t\\t\\t\\n\\t\\t\\t\\t\\t\\t\\n\\t\\t\\t\\t\\t\\t\\tВышел микропатч для бреши 0-day в Adobe Reader\\n\\t\\t\\t\\t\\t\\t\\n\\t\\t\\t\\t\\t\\t\\n\\t\\t\\t\\t\\t\\t\\t13 февраля 2019 , 07:52\\n\\t\\t\\t\\t\\t\\t\\n\\t\\t\\t\\t\\t\\n\\t\\t\\t\\t\\t\\t\\t\\t\\n\\t\\t\\t\\t\\t\\t\\n\\t\\t\\t\\t\\t\\t\\tЭксперты оценили готовность стран к борьбе с кибератаками\\n\\t\\t\\t\\t\\t\\t\\n\\t\\t\\t\\t\\t\\t\\n\\t\\t\\t\\t\\t\\t\\t12 февраля 2019 , 09:30\\n\\t\\t\\t\\t\\t\\t\\n\\t\\t\\t\\t\\t\\n\\t\\t\\t\\t\\t\\t\\t\\t\\n\\t\\t\\t\\t\\t\\t\\n\\t\\t\\t\\t\\t\\t\\tВзломщики продолжают атаки на хранилища MongoDB\\n\\t\\t\\t\\t\\t\\t\\n\\t\\t\\t\\t\\t\\t\\n\\t\\t\\t\\t\\t\\t\\t11 февраля 2019 , 18:32\\n\\t\\t\\t\\t\\t\\t\\n\\t\\t\\t\\t\\t\\n\\t\\t\\t\\nОднако варианты, содержащие строки qaz и wsx, немногим лучше. Эти буквы удобно располагаются под левой рукой на клавиатуре, поэтому их комбинации злоумышленники проверяют в первую очередь. Самые популярные, а значит, и самые слабые пароли этого типа, по мнению Dashlane:\\n\\n1q2w3e4r\\n1qaz2wsx\\n1qazxsw2\\nzaq12wsx\\n!qaz2wsx\\n1qaz@wsx\\n\\nКлавиши, расположенные под правой рукой, редко используют при создании ключей. Отчасти это объясняется тем, что самые удобные, крайние «диагонали» клавиатуры заканчиваются знаками препинания, а не буквами.\\nДругая группа популярных паролей основана на чувствах и эмоциях. Пользователи нередко защищают свои аккаунты словами любви или, наоборот, бранными выражениями.\\nВозможно, обладатели паролей iloveyou или ihateyou считают, что подобные фразы наилучшим образом подходят для защиты персональных данных, но это не так. В десятку самых популярных сочетаний в этой категории входят:\\n\\niloveyou\\nf*ckyou\\na**hole\\nf*ckoff\\niloveme\\ntrustno1\\nbeautiful\\nihateyou\\nbullsh*t\\nlovelove\\n\\nПо мнению экспертов, пароли, которые выбирают пользователи, — это отражение окружающей их действительности, поэтому среди секретных комбинаций регулярно встречаются названия известных торговых марок или компаний. На вершине списка самых популярных паролей этой категории находятся myspace и linkedin. Интересно, что ранее, в 2012 и 2016 годах, оба этих бренда допустили утечку идентификационных данных своих пользователей.\\nДругие распространенные варианты — марки автомобилей и сладости:\\n\\nmustang\\nferrari\\nplayboy\\nmercedes\\ncocacola\\nsnickers\\ncorvette\\nskittles\\n\\nСписки наиболее популярных паролей каждой категории напоминают хит-парады и неплохо отражают расстановку сил в каждом из сегментов. Среди кино- и мультипликационных фильмов лидируют superman, pokemon, starwars и spiderman, из звезд музыки — slipknot, metallica и nirvana, а пятерка «футбольных» паролей включает в себя liverpool, chelsea, arsenal, barcelona и manchester.\\nВредоносные утилиты из арсенала киберпреступников способны за короткое время проверить тысячи паролей, чтобы получить доступ к данным жертвы. Программы для подбора ключевых сочетаний работают по спискам, которые включают в себя большинство популярных последовательностей. Поэтому уповать на безопасность таких паролей нельзя.\\nМетод перебора регулярно используется злоумышленниками. Недавно исследователи сообщили о вредоносной кампании MassMiner, целью которой являлась установка программ для генерации Monero на скомпрометированные серверы. Один из векторов этой атаки был направлен на системы под управлением MS SQL Server, которые взламывали именно таким способом.\\n\\n\\t\\t\\n\\t\\t\\t\\t\\t\\t\\t\\t\\n\\t\\n\\n\\n\\n0Категории:  Аналитика,  Главное\\t\\t\\t\\t\\t\\n\\t\\t\\t\\t\\t\\t.related-posts h2{ clear: both; }\\n\\t\\t\\t\\t\\t\\t.site-content .related-posts{\\n\\t\\t\\t\\t\\t\\t\\tpadding: 25px 0 35px;\\n\\t\\t\\t\\t\\t\\t\\tborder-top: 3px solid #888;\\n\\t\\t\\t\\t\\t\\t\\tclear: both;\\n\\t\\t\\t\\t\\t\\t}\\n\\t\\t\\t\\t\\t\\n\\t\\t\\t\\tРекомендовано\\t\\t\\t\\n\\t\\t\\t\\t\\t\\n\\t\\t\\t\\t\\t\\t\\t\\t\\t\\t\\t\\t\\n\\n\\n0\\t\\t\\t\\t\\t\\n\\t\\t\\t\\t\\t\\n\\t\\t\\t\\t\\t\\t13 февраля 2019 , 07:52\\n\\t\\t\\t\\t\\t\\t\\n\\t\\t\\t\\t\\t\\t\\tКатегории:  Главное,  Уязвимости\\t\\t\\t\\t\\t\\t\\n\\t\\t\\t\\t\\t\\n\\t\\t\\t\\t\\t\\n\\t\\t\\t\\t\\t\\tВышел микропатч для бреши 0-day в Adobe Reader\\n\\t\\t\\t\\t\\t\\n\\t\\t\\t\\t\\t\\n\\t\\t\\t\\t\\t\\tby Lindsey O\\'Donnell\\n\\t\\t\\t\\t\\t\\n\\t\\t\\t\\t\\tУязвимость открывает возможность для кражи хеша NTLM при загрузке таблицы стилей для XML-структур в документе.\\n\\t\\t\\t\\t\\tЧитать далее...\\n\\t\\t\\t\\t\\n\\t\\t\\t\\t\\t\\n\\t\\t\\t\\t\\t\\n\\t\\t\\t\\t\\t\\t\\t\\t\\t\\t\\t\\t\\n\\n\\n0\\t\\t\\t\\t\\t\\n\\t\\t\\t\\t\\t\\n\\t\\t\\t\\t\\t\\t12 февраля 2019 , 09:30\\n\\t\\t\\t\\t\\t\\t\\n\\t\\t\\t\\t\\t\\t\\tКатегории:  Аналитика,  Вредоносные программы,  Главное,  Кибероборона,  Хакеры\\t\\t\\t\\t\\t\\t\\n\\t\\t\\t\\t\\t\\n\\t\\t\\t\\t\\t\\n\\t\\t\\t\\t\\t\\tЭксперты оценили готовность стран к борьбе с кибератаками\\n\\t\\t\\t\\t\\t\\n\\t\\t\\t\\t\\t\\n\\t\\t\\t\\t\\t\\tby Dmitry Nazarov\\n\\t\\t\\t\\t\\t\\n\\t\\t\\t\\t\\tСогласно исследованию, среди 60 государств Россия занимает 23-е место, а лучше всех от киберугроз защищена Япония.\\n\\t\\t\\t\\t\\tЧитать далее...\\n\\t\\t\\t\\t\\n\\t\\t\\t\\t\\t\\n\\t\\t\\t\\t\\t\\n\\t\\t\\t\\t\\t\\t\\t\\t\\t\\t\\t\\t\\n\\n\\n0\\t\\t\\t\\t\\t\\n\\t\\t\\t\\t\\t\\n\\t\\t\\t\\t\\t\\t11 февраля 2019 , 18:32\\n\\t\\t\\t\\t\\t\\t\\n\\t\\t\\t\\t\\t\\t\\tКатегории:  Хакеры\\t\\t\\t\\t\\t\\t\\n\\t\\t\\t\\t\\t\\n\\t\\t\\t\\t\\t\\n\\t\\t\\t\\t\\t\\tВзломщики продолжают атаки на хранилища MongoDB\\n\\t\\t\\t\\t\\t\\n\\t\\t\\t\\t\\t\\n\\t\\t\\t\\t\\t\\tby Dmitry Nazarov\\n\\t\\t\\t\\t\\t\\n\\t\\t\\t\\t\\tИсследователи сообщают о трех новых киберпреступниках, нацеленных на угон незащищенных баз данных.\\n\\t\\t\\t\\t\\tЧитать далее...\\n\\t\\t\\t\\t\\n\\t\\t\\n\\t\\t\\n\\t\\n\\n\\n\\t\\n\\t\\tПопулярные новости        \\n          \\n            Пароли и логины можно похитить через функцию MySQL\\n          \\n          \\n            22 января 2019 , 16:36\\n          \\n        \\n              \\n          \\n            Правительство хочет построить цифровую экономику к 2024 году\\n          \\n          \\n            26 декабря 2018 , 16:40\\n          \\n        \\n              \\n          \\n            Четверть компаний в регионах увеличила ИБ-бюджет в 2018 году\\n          \\n          \\n            27 декабря 2018 , 15:38\\n          \\n        \\n              \\n          \\n            Ноутбуки Lenovo перестают загружаться после обновления IE\\n          \\n          \\n            26 декабря 2018 , 18:44\\n          \\n        \\n              \\n          \\n            Фишеры украли почти миллион долларов у пользователей Electrum\\n          \\n          \\n            28 декабря 2018 , 17:23\\n          \\n        \\n              \\n          \\n            АНБ выложит в открытый доступ дизассемблер GHIDRA\\n          \\n          \\n            8 января 2019 , 18:58\\n          \\n        \\n              \\n          \\n            JungleSec атакует Linux-серверы через интерфейс IPMI\\n          \\n          \\n            27 декабря 2018 , 17:50\\n          \\n        \\n              \\n          \\n            WannaCry дремлет, но готов ударить вновь\\n          \\n          \\n            26 декабря 2018 , 16:57\\n          \\n        \\n      \\t\\t\\t\\n\\n\\t\\t\\t\\t\\t\\n\\n\\t\\t\\t\\n\\t\\t\\t\\t\\t\\n\\t\\t\\t\\tСвежие записи из блогов Касперского\\n\\t\\t\\t\\t\\n\\t\\t\\t\\t\\t\\t\\t\\t\\t\\n\\n\\n\\n\\t\\t\\t\\t\\t\\n\\t\\t\\t\\t\\t\\t\\n\\t\\t\\t\\t\\t\\t\\t\\t\\t\\t\\t\\t\\t\\t\\t\\n\\t\\t\\t\\t\\t\\t\\t\\t\\t\\t\\t\\t\\t\\n\\t\\t\\t\\t\\t\\tВ Милане всё спокойно....\\n\\t\\t\\t\\t\\t\\n\\n\\t\\t\\t\\t\\tПосле короткого забега в Карелию дома я засиделся совсем недолго. Следующий рейс унёс меня по делам в Италию. В иллюминаторе рейса Москва-Милан показывали вот такие кадры: Ну, что рассказать об Италии...\\n\\t\\t\\t\\t\\tЧитать далее…\\n\\n\\t\\t\\t\\t\\t\\n\\t\\t\\t\\t\\t\\t\\t\\t\\t\\t\\t\\n\\n\\n\\n\\t\\t\\t\\t\\t\\n\\t\\t\\t\\t\\t\\t\\n\\t\\t\\t\\t\\t\\t\\t\\t\\t\\t\\t\\t\\t\\t\\t\\n\\t\\t\\t\\t\\t\\t\\t\\t\\t\\t\\t\\t\\t\\n\\t\\t\\t\\t\\t\\tDDoS-атаки в четвертом квартале 2018 года...\\n\\t\\t\\t\\t\\t\\n\\n\\t\\t\\t\\t\\tВот уже третий квартал подряд продолжаются перестановки в первых десятках распределения стран по количеству атак, целей и командных серверов ботнетов. DDoS-активность растет там, где она до этого оста...\\n\\t\\t\\t\\t\\tЧитать далее…\\n\\n\\t\\t\\t\\t\\t\\n\\t\\t\\t\\t\\t\\t\\t\\t\\t\\t\\t\\n\\n\\n\\n\\t\\t\\t\\t\\t\\n\\t\\t\\t\\t\\t\\t\\n\\t\\t\\t\\t\\t\\t\\t\\t\\t\\t\\t\\t\\t\\t\\t\\n\\t\\t\\t\\t\\t\\t\\t\\t\\t\\t\\t\\t\\t\\n\\t\\t\\t\\t\\t\\tКак Олег качал «пиратку» без регистрации и СМС...\\n\\t\\t\\t\\t\\t\\n\\n\\t\\t\\t\\t\\tОлег хотел скачать пиратскую копию игры, а скачал зловреда. Последнее время это частая история — рассказываем, что произошло....\\n\\t\\t\\t\\t\\tЧитать далее…\\n\\n\\t\\t\\t\\t\\t\\n\\t\\t\\t\\t\\t\\t\\t\\t\\t\\n\\t\\t\\n\\t\\n\\n\\n\\n\\n\\t\\n\\t\\t\\n\\t\\t\\n\\t\\t\\t\\n\\t\\t\\t\\tПотоки RSS\\nДомой\\nО нас\\nСвязаться с нами\\n\\t\\t\\t\\n\\t\\t\\n\\t\\t\\n\\n\\t\\t\\t\\n\\t\\t\\t\\tКатегорииDoS-атакиАналитикаВредоносные программыГлавноеДругие темыКибероборонаМошенничествоСпамУязвимостиХакеры\\t\\t\\t\\n\\n\\n\\t\\t\\t\\t\\t\\n\\t\\n\\t\\n\\t\\t\\n\\t\\t\\t\\n\\t\\t\\t\\tThreatpost - Russian - Russia - threatpost.ru\\n\\t\\t\\t\\t\\n\\t\\t\\t\\t\\tCopyright © 2019 Threatpost - Russian - Russia - threatpost.ru \\t\\t\\t\\t\\n\\t\\t\\t\\t\\n\\t\\t\\t\\n\\t\\t\\t\\n\\t\\t\\t\\tПолитика конфиденциальности\\nTerms of Service\\n\\t\\t\\t\\n\\t\\t\\t\\n\\t\\t\\t\\n\\t\\t\\n\\t\\n\\n\\n\\t\\t\\n\\n            \\n            \\n            \\n            \\n\\n\\n\\n\\n\\n\\n\\n'"
      ]
     },
     "execution_count": 93,
     "metadata": {},
     "output_type": "execute_result"
    }
   ],
   "source": [
    "BeautifulSoup(resp.text, \"html5lib\").get_text() #уберём служебную информацию, использую регулярные выражения"
   ]
  },
  {
   "cell_type": "code",
   "execution_count": 94,
   "metadata": {},
   "outputs": [
    {
     "name": "stdout",
     "output_type": "stream",
     "text": [
      "Эксперты назвали самые популярные пароли \n",
      "-----\n",
      " Подписаться на новости Разработчики утилиты для хранения паролей Dashlane проанализировали данные более 60 млн пользователей и рассказали о привычках, которым следуют люди при выборе ключей для своих аккаунтов. Чаще всего секретная комбинация символов содержит названия футбольных клубов, слова любви и ненависти, а также имена звезд и марки автомобилей. Эксперты выделили несколько типовых паттернов создания паролей. Один из них — удобное сочетание клавиш. Записи вида qwerty и 12345 ушли в историю, уступив лидерство более «надежным» с точки зрения пользователей последовательностям. Однако варианты, содержащие строки qaz и wsx, немногим лучше. Эти буквы удобно располагаются под левой рукой на клавиатуре, поэтому их комбинации злоумышленники проверяют в первую очередь. Самые популярные, а значит, и самые слабые пароли этого типа, по мнению Dashlane: Клавиши, расположенные под правой рукой, редко используют при создании ключей. Отчасти это объясняется тем, что самые удобные, крайние «диагонали» клавиатуры заканчиваются знаками препинания, а не буквами. Другая группа популярных паролей основана на чувствах и эмоциях. Пользователи нередко защищают свои аккаунты словами любви или, наоборот, бранными выражениями. Возможно, обладатели паролей iloveyou или ihateyou считают, что подобные фразы наилучшим образом подходят для защиты персональных данных, но это не так. В десятку самых популярных сочетаний в этой категории входят: По мнению экспертов, пароли, которые выбирают пользователи, — это отражение окружающей их действительности, поэтому среди секретных комбинаций регулярно встречаются названия известных торговых марок или компаний. На вершине списка самых популярных паролей этой категории находятся myspace и linkedin. Интересно, что ранее, в 2012 и 2016 годах, оба этих бренда допустили утечку идентификационных данных своих пользователей. Другие распространенные варианты — марки автомобилей и сладости: Списки наиболее популярных паролей каждой категории напоминают хит-парады и неплохо отражают расстановку сил в каждом из сегментов. Среди кино- и мультипликационных фильмов лидируют superman, pokemon, starwars и spiderman, из звезд музыки — slipknot, metallica и nirvana, а пятерка «футбольных» паролей включает в себя liverpool, chelsea, arsenal, barcelona и manchester. Вредоносные утилиты из арсенала киберпреступников способны за короткое время проверить тысячи паролей, чтобы получить доступ к данным жертвы. Программы для подбора ключевых сочетаний работают по спискам, которые включают в себя большинство популярных последовательностей. Поэтому уповать на безопасность таких паролей нельзя. Метод перебора регулярно используется злоумышленниками. Недавно исследователи сообщили о вредоносной кампании MassMiner, целью которой являлась установка программ для генерации Monero на скомпрометированные серверы. Один из векторов этой атаки был направлен на системы под управлением MS SQL Server, которые взламывали именно таким способом.  Уязвимость открывает возможность для кражи хеша NTLM при загрузке таблицы стилей для XML-структур в документе. Читать далее... Согласно исследованию, среди 60 государств Россия занимает 23-е место, а лучше всех от киберугроз защищена Япония. Читать далее... Исследователи сообщают о трех новых киберпреступниках, нацеленных на угон незащищенных баз данных. Читать далее...   После короткого забега в Карелию дома я засиделся совсем недолго. Следующий рейс унёс меня по делам в Италию. В иллюминаторе рейса Москва-Милан показывали вот такие кадры: Ну, что рассказать об Италии... Читать далее… Вот уже третий квартал подряд продолжаются перестановки в первых десятках распределения стран по количеству атак, целей и командных серверов ботнетов. DDoS-активность растет там, где она до этого оста... Читать далее… Олег хотел скачать пиратскую копию игры, а скачал зловреда. Последнее время это частая история — рассказываем, что произошло.... Читать далее…\n"
     ]
    }
   ],
   "source": [
    "bs=BeautifulSoup(resp.text, \"html5lib\") \n",
    "title=bs.h1.text\n",
    "text=BeautifulSoup(\" \".join([p.text for p in bs.find_all(\"p\")]), \"html5lib\").get_text()\n",
    "print(title, \"\\n-----\\n\", text)"
   ]
  },
  {
   "cell_type": "markdown",
   "metadata": {},
   "source": [
    "<h3>Извлечение характерных признаков из текстовых файлов</h3>"
   ]
  },
  {
   "cell_type": "code",
   "execution_count": 95,
   "metadata": {},
   "outputs": [
    {
     "data": {
      "text/plain": [
       "(2378, 37448)"
      ]
     },
     "execution_count": 95,
     "metadata": {},
     "output_type": "execute_result"
    }
   ],
   "source": [
    "from sklearn.feature_extraction.text import CountVectorizer\n",
    "count_vect = CountVectorizer()\n",
    "X_train_counts = count_vect.fit_transform(twenty_train.data)\n",
    "X_train_counts.shape"
   ]
  },
  {
   "cell_type": "code",
   "execution_count": 96,
   "metadata": {},
   "outputs": [
    {
     "data": {
      "text/plain": [
       "5658"
      ]
     },
     "execution_count": 96,
     "metadata": {},
     "output_type": "execute_result"
    }
   ],
   "source": [
    "count_vect.vocabulary_.get(u'algorithm')"
   ]
  },
  {
   "cell_type": "code",
   "execution_count": 97,
   "metadata": {},
   "outputs": [
    {
     "data": {
      "text/plain": [
       "(2378, 37448)"
      ]
     },
     "execution_count": 97,
     "metadata": {},
     "output_type": "execute_result"
    }
   ],
   "source": [
    "from sklearn.feature_extraction.text import TfidfTransformer\n",
    "tf_transformer = TfidfTransformer(use_idf=False).fit(X_train_counts)\n",
    "X_train_tf = tf_transformer.transform(X_train_counts)\n",
    "X_train_tf.shape"
   ]
  },
  {
   "cell_type": "code",
   "execution_count": 98,
   "metadata": {},
   "outputs": [
    {
     "data": {
      "text/plain": [
       "(2378, 37448)"
      ]
     },
     "execution_count": 98,
     "metadata": {},
     "output_type": "execute_result"
    }
   ],
   "source": [
    "tfidf_transformer = TfidfTransformer()\n",
    "X_train_tfidf = tfidf_transformer.fit_transform(X_train_counts)\n",
    "X_train_tfidf.shape"
   ]
  },
  {
   "cell_type": "code",
   "execution_count": 99,
   "metadata": {},
   "outputs": [],
   "source": [
    "from sklearn.naive_bayes import MultinomialNB\n",
    "clf = MultinomialNB().fit(X_train_tfidf, twenty_train.target)"
   ]
  },
  {
   "cell_type": "code",
   "execution_count": 100,
   "metadata": {},
   "outputs": [
    {
     "name": "stdout",
     "output_type": "stream",
     "text": [
      "'washer' => rec.sport.hockey\n",
      "'crack password' => sci.crypt\n"
     ]
    }
   ],
   "source": [
    "docs_new = ['washer', 'crack password']\n",
    "X_new_counts = count_vect.transform(docs_new)\n",
    "X_new_tfidf = tfidf_transformer.transform(X_new_counts)\n",
    "\n",
    "predicted = clf.predict(X_new_tfidf)\n",
    "\n",
    "for doc, category in zip(docs_new, predicted):\n",
    "    print('%r => %s' % (doc, twenty_train.target_names[category]))"
   ]
  },
  {
   "cell_type": "markdown",
   "metadata": {},
   "source": [
    "<h3>Оценка точности прогноза модели</h3>"
   ]
  },
  {
   "cell_type": "code",
   "execution_count": 101,
   "metadata": {},
   "outputs": [],
   "source": [
    "from sklearn.pipeline import Pipeline\n",
    "text_clf = Pipeline([('vect', CountVectorizer()),\n",
    "                     ('tfidf', TfidfTransformer()),\n",
    "                     ('clf', MultinomialNB()),\n",
    "                     ])"
   ]
  },
  {
   "cell_type": "code",
   "execution_count": 102,
   "metadata": {},
   "outputs": [],
   "source": [
    "text_clf = text_clf.fit(twenty_train.data, twenty_train.target)"
   ]
  },
  {
   "cell_type": "code",
   "execution_count": 103,
   "metadata": {},
   "outputs": [
    {
     "data": {
      "text/plain": [
       "0.9450063211125158"
      ]
     },
     "execution_count": 103,
     "metadata": {},
     "output_type": "execute_result"
    }
   ],
   "source": [
    "import numpy as np\n",
    "twenty_test = fetch_20newsgroups(subset='test',\n",
    "    categories=categories, shuffle=True, random_state=42)\n",
    "docs_test = twenty_test.data\n",
    "predicted = text_clf.predict(docs_test)\n",
    "np.mean(predicted == twenty_test.target)"
   ]
  },
  {
   "cell_type": "code",
   "execution_count": 104,
   "metadata": {},
   "outputs": [
    {
     "data": {
      "text/plain": [
       "0.9671302149178256"
      ]
     },
     "execution_count": 104,
     "metadata": {},
     "output_type": "execute_result"
    }
   ],
   "source": [
    "from sklearn.linear_model import SGDClassifier\n",
    "text_clf = Pipeline([('vect', CountVectorizer()),\n",
    "                     ('tfidf', TfidfTransformer()),\n",
    "                     ('clf', SGDClassifier(loss='hinge', penalty='l2',\n",
    "                                           alpha=1e-3, max_iter=5, random_state=42)),\n",
    "])\n",
    "_ = text_clf.fit(twenty_train.data, twenty_train.target)\n",
    "predicted = text_clf.predict(docs_test)\n",
    "np.mean(predicted == twenty_test.target)"
   ]
  },
  {
   "cell_type": "code",
   "execution_count": 105,
   "metadata": {},
   "outputs": [
    {
     "data": {
      "text/plain": [
       "array([[375,   1,   7,   6],\n",
       "       [  1, 396,   0,   2],\n",
       "       [ 21,   3, 371,   1],\n",
       "       [ 10,   0,   0, 388]], dtype=int64)"
      ]
     },
     "execution_count": 105,
     "metadata": {},
     "output_type": "execute_result"
    }
   ],
   "source": [
    "from sklearn import metrics\n",
    "metrics.confusion_matrix(twenty_test.target, predicted)"
   ]
  },
  {
   "cell_type": "code",
   "execution_count": 123,
   "metadata": {},
   "outputs": [],
   "source": [
    "from sklearn.grid_search import GridSearchCV\n",
    "parameters = {'vect__ngram_range': [(1, 1), (1, 2)],\n",
    "              'tfidf__use_idf': (True, False),\n",
    "              'clf__alpha': (1e-2, 1e-3),\n",
    "}"
   ]
  },
  {
   "cell_type": "code",
   "execution_count": 128,
   "metadata": {},
   "outputs": [],
   "source": [
    "gs_clf = GridSearchCV(text_clf, parameters, cv=3, iid=False, n_jobs=-1)"
   ]
  },
  {
   "cell_type": "code",
   "execution_count": 129,
   "metadata": {},
   "outputs": [
    {
     "data": {
      "text/plain": [
       "'rec.sport.hockey'"
      ]
     },
     "execution_count": 129,
     "metadata": {},
     "output_type": "execute_result"
    }
   ],
   "source": [
    "gs_clf = gs_clf.fit(twenty_train.data[:400], twenty_train.target[:400])\n",
    "twenty_train.target_names[gs_clf.predict(['the stick broke'])[0]]"
   ]
  },
  {
   "cell_type": "code",
   "execution_count": 130,
   "metadata": {},
   "outputs": [
    {
     "name": "stdout",
     "output_type": "stream",
     "text": [
      "clf__alpha: 0.001\n",
      "tfidf__use_idf: True\n",
      "vect__ngram_range: (1, 2)\n"
     ]
    }
   ],
   "source": [
    "best_parameters, score, _ = max(gs_clf.grid_scores_, key=lambda x: x[1])\n",
    "for param_name in sorted(parameters.keys()):\n",
    "    print(\"%s: %r\" % (param_name, best_parameters[param_name]))"
   ]
  },
  {
   "cell_type": "code",
   "execution_count": 131,
   "metadata": {},
   "outputs": [
    {
     "data": {
      "text/plain": [
       "0.9524138629401787"
      ]
     },
     "execution_count": 131,
     "metadata": {},
     "output_type": "execute_result"
    }
   ],
   "source": [
    "score"
   ]
  }
 ],
 "metadata": {
  "kernelspec": {
   "display_name": "Python 3",
   "language": "python",
   "name": "python3"
  },
  "language_info": {
   "codemirror_mode": {
    "name": "ipython",
    "version": 3
   },
   "file_extension": ".py",
   "mimetype": "text/x-python",
   "name": "python",
   "nbconvert_exporter": "python",
   "pygments_lexer": "ipython3",
   "version": "3.7.0"
  }
 },
 "nbformat": 4,
 "nbformat_minor": 2
}
